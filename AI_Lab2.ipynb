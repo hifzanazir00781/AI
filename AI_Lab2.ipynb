{
  "nbformat": 4,
  "nbformat_minor": 0,
  "metadata": {
    "colab": {
      "provenance": [],
      "toc_visible": true
    },
    "kernelspec": {
      "name": "python3",
      "display_name": "Python 3"
    },
    "language_info": {
      "name": "python"
    }
  },
  "cells": [
    {
      "cell_type": "code",
      "execution_count": null,
      "metadata": {
        "id": "89BaPmGG3uBs"
      },
      "outputs": [],
      "source": []
    },
    {
      "cell_type": "markdown",
      "source": [
        "# **List**"
      ],
      "metadata": {
        "id": "gnnmHMnI43KD"
      }
    },
    {
      "cell_type": "code",
      "source": [
        "!pip install numpy"
      ],
      "metadata": {
        "colab": {
          "base_uri": "https://localhost:8080/"
        },
        "id": "Dnr4KI48EArq",
        "outputId": "e697d00a-99e2-4e1d-ea8b-975b81111e64"
      },
      "execution_count": 20,
      "outputs": [
        {
          "output_type": "stream",
          "name": "stdout",
          "text": [
            "Requirement already satisfied: numpy in /usr/local/lib/python3.12/dist-packages (2.0.2)\n"
          ]
        }
      ]
    },
    {
      "cell_type": "code",
      "source": [
        "# Create a list of 10 integers\n",
        "num =[1,2,3,4,5,6,7,8,9,10]\n",
        "print('Original List: ', num)\n",
        "\n",
        "#sum ,max and min\n",
        "print('Max = ', max(num))\n",
        "print('Min = ', min(num))\n",
        "#print('Sum = ', sum(num))\n",
        "\n",
        "# Add and Remove element\n",
        "num.append(50)\n",
        "num.remove(10)\n",
        "print('Updated List: ', num)\n",
        "\n",
        "#Sort ascending and decending\n",
        "print('Ascending: ', sorted(num))\n",
        "print('Descending: ', sorted(num, reverse=True))\n",
        "\n"
      ],
      "metadata": {
        "colab": {
          "base_uri": "https://localhost:8080/"
        },
        "id": "5bsxn5YWAkPB",
        "outputId": "e92e794b-01b5-4172-8cfe-d6f8e3441247"
      },
      "execution_count": 24,
      "outputs": [
        {
          "output_type": "stream",
          "name": "stdout",
          "text": [
            "Original List:  [1, 2, 3, 4, 5, 6, 7, 8, 9, 10]\n",
            "Max =  10\n",
            "Min =  1\n",
            "Updated List:  [1, 2, 3, 4, 5, 6, 7, 8, 9, 50]\n",
            "Ascending:  [1, 2, 3, 4, 5, 6, 7, 8, 9, 50]\n",
            "Descending:  [50, 9, 8, 7, 6, 5, 4, 3, 2, 1]\n"
          ]
        }
      ]
    },
    {
      "cell_type": "markdown",
      "source": [
        "# **Tuples**"
      ],
      "metadata": {
        "id": "BNoWtMHZ5F1r"
      }
    },
    {
      "cell_type": "code",
      "source": [
        "#Create a tupple with strings\n",
        "Fruits = (\"Apple\",\"Mango\",\"Orange\",\"Banana\",\"peach\")\n",
        "print('Fruits :', Fruits)\n",
        "\n",
        "#print 2nd and last index\n",
        "\n",
        "print('2nd index :', Fruits[1])\n",
        "print('Last index :', Fruits[-1])\n",
        "\n",
        "#Try to modify an element then error or not\n",
        "# Fruits.append(\"Grapes\")\n",
        "# print('Updated Fruits :', Fruits)\n",
        "# Fruits.remove(\"Mango\")\n",
        "# print('Updated Fruits :', Fruits)\n",
        "\n",
        "#convert the tupple into list\n",
        "Fruits_list = list(Fruits)\n",
        "Fruits_list.append(\"Grapes\")\n",
        "Fruits_list.remove(\"Mango\")\n",
        "print('Modified list :', Fruits_list)\n"
      ],
      "metadata": {
        "colab": {
          "base_uri": "https://localhost:8080/"
        },
        "id": "ebnL2omVE0P6",
        "outputId": "efd13149-ce36-4bb5-9c9d-4d1e76ed968e"
      },
      "execution_count": 41,
      "outputs": [
        {
          "output_type": "stream",
          "name": "stdout",
          "text": [
            "Fruits : ('Apple', 'Mango', 'Orange', 'Banana', 'peach')\n",
            "2nd index : Mango\n",
            "Last index : peach\n",
            "Modified list : ['Apple', 'Orange', 'Banana', 'peach', 'Grapes']\n"
          ]
        }
      ]
    },
    {
      "cell_type": "markdown",
      "source": [
        "# **Sets**"
      ],
      "metadata": {
        "id": "45VuXe5v5OuS"
      }
    },
    {
      "cell_type": "code",
      "source": [
        "# Create two sets\n",
        "A = {1, 2, 3, 4, 5,6,7}\n",
        "B = {4, 5, 6, 7, 8,9,10}\n",
        "print(\"Set A:\", A)\n",
        "print(\"Set B:\", B)\n",
        "# Union , Intersection , Differences of two sets\n",
        "print(\"Union of A and B:\", A | B)\n",
        "print(\"Intersection of A and B:\", A & B)\n",
        "print(\"Difference of A and B:\", A - B)\n",
        "print(\"Difference of B and A:\", B - A)\n",
        "\n"
      ],
      "metadata": {
        "colab": {
          "base_uri": "https://localhost:8080/"
        },
        "id": "dGWDw8TyIF8q",
        "outputId": "92b3c996-9750-443c-e898-c90b95643977"
      },
      "execution_count": 44,
      "outputs": [
        {
          "output_type": "stream",
          "name": "stdout",
          "text": [
            "Set A: {1, 2, 3, 4, 5, 6, 7}\n",
            "Set B: {4, 5, 6, 7, 8, 9, 10}\n",
            "Union of A and B: {1, 2, 3, 4, 5, 6, 7, 8, 9, 10}\n",
            "Intersection of A and B: {4, 5, 6, 7}\n",
            "Difference of A and B: {1, 2, 3}\n",
            "Difference of B and A: {8, 9, 10}\n"
          ]
        }
      ]
    },
    {
      "cell_type": "markdown",
      "source": [
        "# **Dictionary**"
      ],
      "metadata": {
        "id": "JGqq-eVH5gTz"
      }
    },
    {
      "cell_type": "code",
      "source": [
        "#Create a keys of students\n",
        "\n",
        "Friends = {'Hifza' : 90, 'Memoona ' : 89, 'Munazza ': 85, 'Alisha ': 87}\n",
        "\n",
        "#print keys and values\n",
        "print('Friends :', Friends)\n",
        "print('Keys :', Friends.keys())\n",
        "print('Values :', Friends.values())\n",
        "\n",
        "#update value\n",
        "# students['Hifza'] = 95\n",
        "# print('Updated Friends :', Friends)"
      ],
      "metadata": {
        "colab": {
          "base_uri": "https://localhost:8080/"
        },
        "id": "jwn1IpqpJJpa",
        "outputId": "c4548247-c024-456b-9d46-8a97d7ca5178"
      },
      "execution_count": 47,
      "outputs": [
        {
          "output_type": "stream",
          "name": "stdout",
          "text": [
            "Friends : {'Hifza': 90, 'Memoona ': 89, 'Munazza ': 85, 'Alisha ': 87}\n",
            "Keys : dict_keys(['Hifza', 'Memoona ', 'Munazza ', 'Alisha '])\n",
            "Values : dict_values([90, 89, 85, 87])\n",
            "Updated Friends : {'Hifza': 90, 'Memoona ': 89, 'Munazza ': 85, 'Alisha ': 87}\n"
          ]
        }
      ]
    },
    {
      "cell_type": "markdown",
      "source": [
        "# **Numpy**"
      ],
      "metadata": {
        "id": "eVdJIv4r5p0y"
      }
    },
    {
      "cell_type": "markdown",
      "source": [
        "# **Matplotlib**"
      ],
      "metadata": {
        "id": "0DWcp-R06Jri"
      }
    }
  ]
}