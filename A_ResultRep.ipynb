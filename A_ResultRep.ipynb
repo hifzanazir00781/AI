{
  "nbformat": 4,
  "nbformat_minor": 0,
  "metadata": {
    "colab": {
      "provenance": [],
      "toc_visible": true
    },
    "kernelspec": {
      "name": "python3",
      "display_name": "Python 3"
    },
    "language_info": {
      "name": "python"
    }
  },
  "cells": [
    {
      "cell_type": "code",
      "execution_count": null,
      "metadata": {
        "id": "o1ZPKDtHGO9U"
      },
      "outputs": [],
      "source": [
        "import"
      ]
    },
    {
      "cell_type": "markdown",
      "source": [
        "# A* Alogorithm **bold text**\n",
        "\n",
        "\n"
      ],
      "metadata": {
        "id": "fB8lgwIQGQVe"
      }
    },
    {
      "cell_type": "code",
      "source": [
        "import heapq\n",
        "\n",
        "# Weighted graph: other Pakistani cities with approx distances (km)\n",
        "graph = {\n",
        "    \"Sialkot\": {\"Gujranwala\": 50, \"Lahore\": 125},\n",
        "    \"Gujranwala\": {\"Sialkot\": 50, \"Jhelum\": 140},\n",
        "    \"Lahore\": {\"Sialkot\": 125, \"Okara\": 120},\n",
        "    \"Jhelum\": {\"Gujranwala\": 140, \"Rawalpindi\": 110},\n",
        "    \"Okara\": {\"Lahore\": 120, \"Bahawalpur\": 300},\n",
        "    \"Rawalpindi\": {\"Jhelum\": 110, \"Mardan\": 150},\n",
        "    \"Bahawalpur\": {\"Okara\": 300, \"Sukkur\": 420},\n",
        "    \"Mardan\": {\"Rawalpindi\": 150, \"Quetta\": 750},\n",
        "    \"Sukkur\": {\"Bahawalpur\": 420, \"Hyderabad\": 480},\n",
        "    \"Hyderabad\": {\"Sukkur\": 480, \"Karachi\": 160},\n",
        "    \"Quetta\": {\"Mardan\": 750, \"Karachi\": 680},\n",
        "    \"Karachi\": {\"Hyderabad\": 160, \"Quetta\": 680}\n",
        "}\n",
        "\n",
        "# Heuristic (straight-line estimates to Karachi)\n",
        "heuristic = {\n",
        "    \"Sialkot\": 1300,\n",
        "    \"Gujranwala\": 1200,\n",
        "    \"Lahore\": 1150,\n",
        "    \"Jhelum\": 1000,\n",
        "    \"Okara\": 950,\n",
        "    \"Rawalpindi\": 900,\n",
        "    \"Bahawalpur\": 700,\n",
        "    \"Mardan\": 850,\n",
        "    \"Sukkur\": 500,\n",
        "    \"Hyderabad\": 160,\n",
        "    \"Quetta\": 680,\n",
        "    \"Karachi\": 0\n",
        "}\n",
        "\n",
        "def a_star(graph, start, goal, heuristic):\n",
        "    open_list = []\n",
        "    heapq.heappush(open_list, (heuristic[start], [start]))\n",
        "    g_costs = {start: 0}\n",
        "    closed_set = set()\n",
        "\n",
        "    while open_list:\n",
        "        f, path = heapq.heappop(open_list)\n",
        "        node = path[-1]\n",
        "\n",
        "        if node == goal:\n",
        "            return path, g_costs[node]\n",
        "\n",
        "        if node in closed_set:\n",
        "            continue\n",
        "\n",
        "        closed_set.add(node)\n",
        "\n",
        "        for neighbor, cost in graph[node].items():\n",
        "            tentative_g = g_costs[node] + cost\n",
        "            if neighbor not in g_costs or tentative_g < g_costs[neighbor]:\n",
        "                g_costs[neighbor] = tentative_g\n",
        "                f_cost = tentative_g + heuristic.get(neighbor, float('inf'))\n",
        "                new_path = path + [neighbor]\n",
        "                heapq.heappush(open_list, (f_cost, new_path))\n",
        "\n",
        "    return None, float('inf')\n",
        "\n",
        "\n",
        "# Example run\n",
        "if __name__ == \"__main__\":\n",
        "    start_city = \"Sialkot\"\n",
        "    goal_city = \"Karachi\"\n",
        "    path, cost = a_star(graph, start_city, goal_city, heuristic)\n",
        "    print(\"A* path:\", path)\n",
        "    print(\"Total cost:\", cost)\n"
      ],
      "metadata": {
        "colab": {
          "base_uri": "https://localhost:8080/"
        },
        "id": "SDj6HZNWGloB",
        "outputId": "72a2235e-9e13-4c67-ae71-a22368e8c457"
      },
      "execution_count": 24,
      "outputs": [
        {
          "output_type": "stream",
          "name": "stdout",
          "text": [
            "A* path: ['Sialkot', 'Lahore', 'Okara', 'Bahawalpur', 'Sukkur', 'Hyderabad', 'Karachi']\n",
            "Total cost: 1605\n"
          ]
        }
      ]
    }
  ]
}