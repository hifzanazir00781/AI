{
  "nbformat": 4,
  "nbformat_minor": 0,
  "metadata": {
    "colab": {
      "provenance": [],
      "toc_visible": true
    },
    "kernelspec": {
      "name": "python3",
      "display_name": "Python 3"
    },
    "language_info": {
      "name": "python"
    }
  },
  "cells": [
    {
      "cell_type": "markdown",
      "source": [
        "# **Numpy**"
      ],
      "metadata": {
        "id": "CJOY7yhxQvTq"
      }
    },
    {
      "cell_type": "code",
      "source": [
        "import numpy as np\n",
        "\n",
        "# Create 1D array\n",
        "arr = np.arange(5, 25)\n",
        "print('1D Array:', arr)\n",
        "\n",
        "# Reshape to 4x5 matrix\n",
        "matrix = arr.reshape(4, 5)\n",
        "print('4x5 Matrix:\\n', matrix)\n",
        "\n",
        "# Mean, Median, Std\n",
        "print('Mean:', np.mean(arr))\n",
        "print('Median:', np.median(arr))\n",
        "print('Standard Deviation:', np.std(arr))\n",
        "\n",
        "# Element-wise operations\n",
        "arr2 = np.arange(25, 45)\n",
        "print('Addition:', arr + arr2)\n",
        "print('Multiplication:', arr * arr2)"
      ],
      "metadata": {
        "colab": {
          "base_uri": "https://localhost:8080/"
        },
        "id": "5na34GV2RG4p",
        "outputId": "68dedfae-0f41-4b8f-9ad3-a4b6eca106ae"
      },
      "execution_count": 9,
      "outputs": [
        {
          "output_type": "stream",
          "name": "stdout",
          "text": [
            "1D Array: [ 5  6  7  8  9 10 11 12 13 14 15 16 17 18 19 20 21 22 23 24]\n",
            "4x5 Matrix:\n",
            " [[ 5  6  7  8  9]\n",
            " [10 11 12 13 14]\n",
            " [15 16 17 18 19]\n",
            " [20 21 22 23 24]]\n",
            "Mean: 14.5\n",
            "Median: 14.5\n",
            "Standard Deviation: 5.766281297335398\n",
            "Addition: [30 32 34 36 38 40 42 44 46 48 50 52 54 56 58 60 62 64 66 68]\n",
            "Multiplication: [ 125  156  189  224  261  300  341  384  429  476  525  576  629  684\n",
            "  741  800  861  924  989 1056]\n"
          ]
        }
      ]
    }
  ]
}