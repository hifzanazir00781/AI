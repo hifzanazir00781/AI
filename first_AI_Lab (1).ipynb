{
  "nbformat": 4,
  "nbformat_minor": 0,
  "metadata": {
    "colab": {
      "provenance": [],
      "toc_visible": true
    },
    "kernelspec": {
      "name": "python3",
      "display_name": "Python 3"
    },
    "language_info": {
      "name": "python"
    }
  },
  "cells": [
    {
      "cell_type": "code",
      "execution_count": null,
      "metadata": {
        "id": "ms7g5zb2O7pN"
      },
      "outputs": [],
      "source": []
    },
    {
      "cell_type": "markdown",
      "source": [
        "## **HELLO**"
      ],
      "metadata": {
        "id": "V8JWj_RzO9iK"
      }
    },
    {
      "cell_type": "markdown",
      "source": [
        "# ADDITION"
      ],
      "metadata": {
        "id": "G-QMRYIMPBRS"
      }
    },
    {
      "cell_type": "code",
      "source": [
        "num1 = 5;\n",
        "num2 = 7;\n",
        "print(\"num1 + num2 = \", 5+7);"
      ],
      "metadata": {
        "colab": {
          "base_uri": "https://localhost:8080/"
        },
        "id": "TfYenSE0PERx",
        "outputId": "a3301ecf-c2e8-4bf8-e8f0-e94873125928"
      },
      "execution_count": null,
      "outputs": [
        {
          "output_type": "stream",
          "name": "stdout",
          "text": [
            "num1 + num2 =  12\n"
          ]
        }
      ]
    },
    {
      "cell_type": "markdown",
      "source": [
        "# SUBTRACTION"
      ],
      "metadata": {
        "id": "KI5qWduTPe2x"
      }
    },
    {
      "cell_type": "code",
      "source": [
        "num1 = 5;\n",
        "num2 = 7;\n",
        "print(\"num1 + num2 = \", 5-7);"
      ],
      "metadata": {
        "id": "IMJgneAOPw-6"
      },
      "execution_count": null,
      "outputs": []
    },
    {
      "cell_type": "markdown",
      "source": [
        "# MULTIPLICATION"
      ],
      "metadata": {
        "id": "uJUDfYBnP0Tq"
      }
    },
    {
      "cell_type": "code",
      "source": [
        "num1 = 5;\n",
        "num2 = 7;\n",
        "print(\"num1 + num2 = \", 5*7);"
      ],
      "metadata": {
        "id": "7Ktw5bBUP5GK"
      },
      "execution_count": null,
      "outputs": []
    },
    {
      "cell_type": "markdown",
      "source": [
        "# DIVISION"
      ],
      "metadata": {
        "id": "-mEZ_dRSP7j7"
      }
    },
    {
      "cell_type": "code",
      "source": [
        "num1 = 5;\n",
        "num2 = 7;\n",
        "print(\"num1 + num2 = \", 5/7);"
      ],
      "metadata": {
        "id": "lUzSjqk7QAtp"
      },
      "execution_count": null,
      "outputs": []
    }
  ]
}