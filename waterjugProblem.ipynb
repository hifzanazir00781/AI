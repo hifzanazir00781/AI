{
  "nbformat": 4,
  "nbformat_minor": 0,
  "metadata": {
    "colab": {
      "provenance": [],
      "toc_visible": true
    },
    "kernelspec": {
      "name": "python3",
      "display_name": "Python 3"
    },
    "language_info": {
      "name": "python"
    }
  },
  "cells": [
    {
      "cell_type": "code",
      "execution_count": null,
      "metadata": {
        "id": "-U7NVeVdaEbJ"
      },
      "outputs": [],
      "source": []
    },
    {
      "cell_type": "markdown",
      "source": [
        "# **Using BFS**"
      ],
      "metadata": {
        "id": "3sUSgMxXfThT"
      }
    },
    {
      "cell_type": "code",
      "source": [
        "from collections import deque\n",
        "\n",
        "JUG1 = 4\n",
        "JUG2 = 3\n",
        "GOAL = 1\n",
        "\n",
        "def water_jug_bfs():\n",
        "    start = (0, 0)\n",
        "    visited = set()\n",
        "    queue = deque([[start]])\n",
        "\n",
        "    while queue:\n",
        "        path = queue.popleft()\n",
        "        state = path[-1]\n",
        "\n",
        "        if state[0] == GOAL or state[1] == GOAL:\n",
        "            return path\n",
        "\n",
        "        if state in visited:\n",
        "            continue\n",
        "        visited.add(state)\n",
        "\n",
        "        x, y = state\n",
        "\n",
        "        next_states = [\n",
        "            (JUG1, y),\n",
        "            (x, JUG2),\n",
        "            (0, y),\n",
        "            (x, 0),\n",
        "            (x - min(x, JUG2 - y), y + min(x, JUG2 - y)),\n",
        "            (x + min(y, JUG1 - x), y - min(y, JUG1 - x))\n",
        "        ]\n",
        "\n",
        "        for nxt in next_states:\n",
        "            if nxt not in visited:\n",
        "                new_path = list(path)\n",
        "                new_path.append(nxt)\n",
        "                queue.append(new_path)\n",
        "    return None\n",
        "\n",
        "solution = water_jug_bfs()\n",
        "print(\"BFS Solution path:\")\n",
        "for step in solution:\n",
        "    print(step)"
      ],
      "metadata": {
        "id": "MkdZlu7nfYwk"
      },
      "execution_count": null,
      "outputs": []
    },
    {
      "cell_type": "markdown",
      "source": [
        "# **DFS**"
      ],
      "metadata": {
        "id": "_vIt4HRcfaco"
      }
    },
    {
      "cell_type": "code",
      "source": [
        "def water_jug_dfs():\n",
        "    start = (0, 0)\n",
        "    stack = [[start]]\n",
        "    visited = set()\n",
        "\n",
        "    while stack:\n",
        "        path = stack.pop()\n",
        "        state = path[-1]\n",
        "\n",
        "        if state[0] == GOAL or state[1] == GOAL:\n",
        "            return path\n",
        "\n",
        "        if state in visited:\n",
        "            continue\n",
        "        visited.add(state)\n",
        "\n",
        "        x, y = state\n",
        "\n",
        "        next_states = [\n",
        "            (JUG1, y),\n",
        "            (x, JUG2),\n",
        "            (0, y),\n",
        "            (x, 0),\n",
        "            (x - min(x, JUG2 - y), y + min(x, JUG2 - y)),\n",
        "            (x + min(y, JUG1 - x), y - min(y, JUG1 - x))\n",
        "        ]\n",
        "\n",
        "        for nxt in next_states:\n",
        "            if nxt not in visited:\n",
        "                new_path = list(path)\n",
        "                new_path.append(nxt)\n",
        "                stack.append(new_path)\n",
        "    return None\n",
        "\n",
        "solution = water_jug_dfs()\n",
        "print(\"DFS Solution path:\")\n",
        "for step in solution:\n",
        "    print(step)"
      ],
      "metadata": {
        "id": "KkVswe9wfku_"
      },
      "execution_count": null,
      "outputs": []
    },
    {
      "cell_type": "markdown",
      "source": [
        "# Using A* **bold text**"
      ],
      "metadata": {
        "id": "_pmLd0tXfluw"
      }
    },
    {
      "cell_type": "code",
      "source": [
        "import heapq\n",
        "\n",
        "def heuristic(state):\n",
        "    x, y = state\n",
        "    return min(abs(x - GOAL), abs(y - GOAL))\n",
        "\n",
        "def a_star_water_jug():\n",
        "    start = (0, 0)\n",
        "    open_list = []\n",
        "    heapq.heappush(open_list, (heuristic(start), 0, [start]))\n",
        "    visited = {}\n",
        "\n",
        "    while open_list:\n",
        "        f, g, path = heapq.heappop(open_list)\n",
        "        state = path[-1]\n",
        "\n",
        "        if state[0] == GOAL or state[1] == GOAL:\n",
        "            return path\n",
        "\n",
        "        if state in visited and visited[state] <= g:\n",
        "            continue\n",
        "        visited[state] = g\n",
        "\n",
        "        x, y = state\n",
        "        next_states = [\n",
        "            (JUG1, y),\n",
        "            (x, JUG2),\n",
        "            (0, y),\n",
        "            (x, 0),\n",
        "            (x - min(x, JUG2 - y), y + min(x, JUG2 - y)),\n",
        "            (x + min(y, JUG1 - x), y - min(y, JUG1 - x))\n",
        "        ]\n",
        "\n",
        "        for nxt in next_states:\n",
        "            if nxt not in visited or g + 1 < visited.get(nxt, float('inf')):\n",
        "                new_path = list(path)\n",
        "                new_path.append(nxt)\n",
        "                new_g = g + 1\n",
        "                new_f = new_g + heuristic(nxt)\n",
        "                heapq.heappush(open_list, (new_f, new_g, new_path))\n",
        "\n",
        "solution = a_star_water_jug()\n",
        "print(\"A* Solution path:\")\n",
        "for step in solution:\n",
        "    print(step)"
      ],
      "metadata": {
        "id": "jXz46qI8fsTQ"
      },
      "execution_count": null,
      "outputs": []
    },
    {
      "cell_type": "markdown",
      "source": [
        "# 1) Compare the solution paths found by BFS, DFS, and A* **bold text**"
      ],
      "metadata": {
        "id": "K7sjMDURilN7"
      }
    },
    {
      "cell_type": "markdown",
      "source": [
        "\n",
        "\n",
        "BFS path (example): (0,0) → (4,0) → (1,3)  3 states, 2 actions.\n",
        "\n",
        "DFS path (example): (0,0) → (0,3) → (3,0) → (3,3) → (4,2) → (4,0) → (1,3)  7 states, 6 actions.\n",
        "\n",
        "A* path (example): (0,0) → (4,0) → (1,3) same as BFS in this run.\n",
        "\n",
        "So BFS and A* returned the shorter path; DFS returned a longer (non-optimal) path in the shown run.\n",
        "\n",
        "\n",
        "\n",
        "\n",
        "\n"
      ],
      "metadata": {
        "id": "uBCazjuSfwrp"
      }
    },
    {
      "cell_type": "markdown",
      "source": [
        "# 2) Which algorithm gives the shortest path? Why?**bold text**"
      ],
      "metadata": {
        "id": "8QlIs3HJi_R8"
      }
    },
    {
      "cell_type": "markdown",
      "source": [
        "Shortest path: BFS and A* (both produced the same shortest path here).\n",
        "\n",
        "Why BFS: BFS explores the state space level by level (increasing number of actions). With uniform step cost (each action counted as 1), BFS is guaranteed to find a solution with the minimum number of steps (i.e., shortest path in terms of actions).\n",
        "\n",
        "Why A* can be shortest: A* is optimal if the heuristic is admissible (never overestimates true remaining cost). In your implementation the heuristic min(|x-G|, |y-G|) is optimistic for this problem and therefore A* also finds an optimal (shortest) solution.\n",
        "\n",
        "Why DFS is not shortest: DFS follows one branch deeply without considering path length, so it may find a solution that is longer (more actions) than the optimal."
      ],
      "metadata": {
        "id": "GtVwuMiNjCyq"
      }
    },
    {
      "cell_type": "markdown",
      "source": [
        "# 3) Which algorithm is more efficient in time and memory?**bold text**"
      ],
      "metadata": {
        "id": "ESwmr5TOjMYp"
      }
    },
    {
      "cell_type": "markdown",
      "source": [
        "BFS, DFS, A* (Time & Memory)\n",
        "\n",
        "BFS\n",
        "\n",
        "Time: Finds shortest path but checks many states.\n",
        "\n",
        "Memory: Uses a lot of memory.\n",
        "\n",
        "Good when shortest path is must and memory is not a problem.\n",
        "\n",
        "DFS\n",
        "\n",
        "Time: Can be fast or very slow (not always shortest).\n",
        "\n",
        "Memory: Uses very little memory.\n",
        "\n",
        "Good when memory is small, but path may not be shortest.\n",
        "\n",
        "A*\n",
        "\n",
        "Time: Very efficient if heuristic is good.\n",
        "\n",
        "Memory: Uses more memory than DFS but usually less than BFS.\n",
        "\n",
        "Best balance → finds shortest path faster than BFS."
      ],
      "metadata": {
        "id": "T8HMPqlBjQC_"
      }
    },
    {
      "cell_type": "markdown",
      "source": [],
      "metadata": {
        "id": "gRraJWYpiUTy"
      }
    }
  ]
}